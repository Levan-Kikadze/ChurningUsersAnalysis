{
 "cells": [
  {
   "cell_type": "code",
   "execution_count": 24,
   "id": "bb7a12d5",
   "metadata": {},
   "outputs": [],
   "source": [
    "import pandas as pd\n",
    "import numpy as np\n",
    "import datetime as dt\n",
    "import plotly.express as px\n",
    "import plotly.graph_objects as go\n",
    "from plotly.subplots import make_subplots\n",
    "\n",
    "df = pd.read_csv(\"/Users/levankikadze/Desktop/pandas/Bolt Food/churningUsers/Data/NewUserBehaviour.csv\")\n",
    "df.rename(columns={\n",
    "    '2. User Information User ID': 'User ID',\n",
    "    '2. User Information First Provider Viewed Event Ts Time': 'First Provider Viewed Time',\n",
    "    '2. User Information First Cart Viewed Event Ts Time': 'First Cart Viewed Time',\n",
    "    '2. User Information Food activation Ts Date': 'Activation Date',\n",
    "    '2. User Information First Food Order ID': 'First Order ID',\n",
    "    '2. User Information Last Food Order Created Ts Date': 'Last Order Date',\n",
    "    '2. User Information Last Food Order ID': 'Last Order ID',\n",
    "}, inplace=True)\n"
   ]
  },
  {
   "cell_type": "code",
   "execution_count": 28,
   "id": "da839420",
   "metadata": {},
   "outputs": [
    {
     "name": "stdout",
     "output_type": "stream",
     "text": [
      "             Provider Viewed (n)  Cart Viewed (n)  First Order (n)  \\\n",
      "fpv_recency                                                          \n",
      "0-30                        1568             1090              806   \n",
      "31-60                      11787             7802             5630   \n",
      "61-90                      13042             8993             6823   \n",
      "91-120                     13809             9779             7280   \n",
      "120+                      134736            96635            75393   \n",
      "Overall                   174942           124299            95932   \n",
      "\n",
      "             Repeat Order (n)  Cart Viewed (%)  First Order (%)  \\\n",
      "fpv_recency                                                       \n",
      "0-30                      314             69.5             51.4   \n",
      "31-60                    2708             66.2             47.8   \n",
      "61-90                    3321             69.0             52.3   \n",
      "91-120                   3746             70.8             52.7   \n",
      "120+                    45581             71.7             56.0   \n",
      "Overall                 55670             71.1             54.8   \n",
      "\n",
      "             Repeat Order (%)     Avg Time to First Order  \n",
      "fpv_recency                                                \n",
      "0-30                     20.0 -2 days +23:02:57.530209618  \n",
      "31-60                    23.0 -3 days +03:45:10.004061452  \n",
      "61-90                    25.5 -1 days +02:39:41.572639580  \n",
      "91-120                   27.1   2 days 06:36:02.648611681  \n",
      "120+                     33.8  13 days 00:04:53.694023146  \n",
      "Overall                  31.8  10 days 03:39:15.847361372  \n"
     ]
    },
    {
     "name": "stderr",
     "output_type": "stream",
     "text": [
      "/var/folders/q4/9fmh2gnj57lgm7stdq1z_66c0000gn/T/ipykernel_52533/148102292.py:48: FutureWarning: The default of observed=False is deprecated and will be changed to True in a future version of pandas. Pass observed=False to retain current behavior or observed=True to adopt the future default and silence this warning.\n",
      "  funnel_by_cohort = df.groupby('fpv_recency', dropna=False).apply(funnel_stats)\n",
      "/var/folders/q4/9fmh2gnj57lgm7stdq1z_66c0000gn/T/ipykernel_52533/148102292.py:48: FutureWarning: DataFrameGroupBy.apply operated on the grouping columns. This behavior is deprecated, and in a future version of pandas the grouping columns will be excluded from the operation. Either pass `include_groups=False` to exclude the groupings or explicitly select the grouping columns after groupby to silence this warning.\n",
      "  funnel_by_cohort = df.groupby('fpv_recency', dropna=False).apply(funnel_stats)\n"
     ]
    }
   ],
   "source": [
    "# --- Prep datetime + recency buckets ---\n",
    "today = pd.Timestamp(dt.datetime.today().date())\n",
    "df['First Provider Viewed Time'] = pd.to_datetime(df['First Provider Viewed Time'])\n",
    "df['First Cart Viewed Time']     = pd.to_datetime(df['First Cart Viewed Time'])\n",
    "df['Activation Date']            = pd.to_datetime(df['Activation Date'])\n",
    "df['Last Order Date']            = pd.to_datetime(df['Last Order Date'])\n",
    "\n",
    "df['days_since_fpv'] = (today - df['First Provider Viewed Time']).dt.days\n",
    "bins   = [0, 30, 60, 90, 120, np.inf]\n",
    "labels = ['0-30', '31-60', '61-90', '91-120', '120+']\n",
    "df['fpv_recency'] = pd.cut(df['days_since_fpv'], bins=bins, labels=labels, right=True)\n",
    "\n",
    "# --- Function to compute your funnel stats inside each cohort ---\n",
    "def funnel_stats(g):\n",
    "    provider_viewed = g['First Provider Viewed Time'].notna()\n",
    "    cart_viewed     = provider_viewed & g['First Cart Viewed Time'].notna()\n",
    "    first_order     = cart_viewed & g['First Order ID'].notna()\n",
    "    repeat_order    = (\n",
    "        first_order &\n",
    "        g['Last Order ID'].notna() &\n",
    "        (g['First Order ID'] != g['Last Order ID'])\n",
    "    )\n",
    "\n",
    "    total_pv   = provider_viewed.sum()\n",
    "    total_cv   = cart_viewed.sum()\n",
    "    total_fo   = first_order.sum()\n",
    "    total_rep  = repeat_order.sum()\n",
    "\n",
    "    # Avoid /0\n",
    "    def pct(x): return round((x / total_pv * 100), 1) if total_pv else 0.0\n",
    "\n",
    "    # Avg time to first order\n",
    "    mask_time = g['First Provider Viewed Time'].notna() & g['Activation Date'].notna()\n",
    "    avg_time  = (g.loc[mask_time, 'Activation Date'] - g.loc[mask_time, 'First Provider Viewed Time']).mean()\n",
    "\n",
    "    return pd.Series({\n",
    "        'Provider Viewed (n)': total_pv,\n",
    "        'Cart Viewed (n)':     total_cv,\n",
    "        'First Order (n)':     total_fo,\n",
    "        'Repeat Order (n)':    total_rep,\n",
    "        'Cart Viewed (%)':     pct(total_cv),\n",
    "        'First Order (%)':     pct(total_fo),\n",
    "        'Repeat Order (%)':    pct(total_rep),\n",
    "        'Avg Time to First Order': avg_time\n",
    "    })\n",
    "\n",
    "# --- Apply per cohort & overall ---\n",
    "funnel_by_cohort = df.groupby('fpv_recency', dropna=False).apply(funnel_stats)\n",
    "\n",
    "# Optional: overall row\n",
    "overall = funnel_stats(df)\n",
    "funnel_by_cohort.loc['Overall'] = overall\n",
    "\n",
    "print(funnel_by_cohort)"
   ]
  },
  {
   "cell_type": "code",
   "execution_count": 52,
   "id": "6276f48f",
   "metadata": {},
   "outputs": [
    {
     "data": {
      "application/vnd.plotly.v1+json": {
       "config": {
        "plotlyServerURL": "https://plot.ly"
       },
       "data": [
        {
         "customdata": {
          "bdata": "T+ZBKWDzOMBtcmx40g9RwIGnDsukVjXArjWD6ORMS0BqnpUoToFzQMOejtzwdG5A",
          "dtype": "f8",
          "shape": "6, 1"
         },
         "hovertemplate": "<b>%{y}</b><br>Repeat Order (n): %{x}<br>Avg Time→Order: %{customdata[0]:.1f} hrs<extra></extra>",
         "name": "Repeat Order (n)",
         "orientation": "h",
         "type": "bar",
         "visible": true,
         "x": {
          "bdata": "OgEAAJQKAAD5DAAAog4AAA2yAAB22QAA",
          "dtype": "i4"
         },
         "y": [
          "0-30",
          "31-60",
          "61-90",
          "91-120",
          "120+",
          "Overall"
         ]
        },
        {
         "customdata": {
          "bdata": "T+ZBKWDzOMBtcmx40g9RwIGnDsukVjXArjWD6ORMS0BqnpUoToFzQMOejtzwdG5A",
          "dtype": "f8",
          "shape": "6, 1"
         },
         "hovertemplate": "<b>%{y}</b><br>First Order (n): %{x}<br>Avg Time→Order: %{customdata[0]:.1f} hrs<extra></extra>",
         "name": "First Order (n)",
         "orientation": "h",
         "type": "bar",
         "visible": true,
         "x": {
          "bdata": "JgMAAP4VAACnGgAAcBwAAIEmAQC8dgEA",
          "dtype": "i4"
         },
         "y": [
          "0-30",
          "31-60",
          "61-90",
          "91-120",
          "120+",
          "Overall"
         ]
        },
        {
         "customdata": {
          "bdata": "T+ZBKWDzOMBtcmx40g9RwIGnDsukVjXArjWD6ORMS0BqnpUoToFzQMOejtzwdG5A",
          "dtype": "f8",
          "shape": "6, 1"
         },
         "hovertemplate": "<b>%{y}</b><br>Cart Viewed (n): %{x}<br>Avg Time→Order: %{customdata[0]:.1f} hrs<extra></extra>",
         "name": "Cart Viewed (n)",
         "orientation": "h",
         "type": "bar",
         "visible": true,
         "x": {
          "bdata": "QgQAAHoeAAAhIwAAMyYAAHt5AQCL5QEA",
          "dtype": "i4"
         },
         "y": [
          "0-30",
          "31-60",
          "61-90",
          "91-120",
          "120+",
          "Overall"
         ]
        },
        {
         "customdata": {
          "bdata": "T+ZBKWDzOMBtcmx40g9RwIGnDsukVjXArjWD6ORMS0BqnpUoToFzQMOejtzwdG5A",
          "dtype": "f8",
          "shape": "6, 1"
         },
         "hovertemplate": "<b>%{y}</b><br>Provider Viewed (n): %{x}<br>Avg Time→Order: %{customdata[0]:.1f} hrs<extra></extra>",
         "name": "Provider Viewed (n)",
         "orientation": "h",
         "type": "bar",
         "visible": true,
         "x": {
          "bdata": "IAYAAAsuAADyMgAA8TUAAFAOAgBeqwIA",
          "dtype": "i4"
         },
         "y": [
          "0-30",
          "31-60",
          "61-90",
          "91-120",
          "120+",
          "Overall"
         ]
        },
        {
         "customdata": {
          "bdata": "T+ZBKWDzOMBtcmx40g9RwIGnDsukVjXArjWD6ORMS0BqnpUoToFzQMOejtzwdG5A",
          "dtype": "f8",
          "shape": "6, 1"
         },
         "hovertemplate": "<b>%{y}</b><br>Repeat Order (%): %{x:.1f}%<br>Avg Time→Order: %{customdata[0]:.1f} hrs<extra></extra>",
         "name": "Repeat Order (%)",
         "orientation": "h",
         "type": "bar",
         "visible": false,
         "x": {
          "bdata": "AAAAAAAANEAAAAAAAAA3QAAAAAAAgDlAmpmZmZkZO0BmZmZmZuZAQM3MzMzMzD9A",
          "dtype": "f8"
         },
         "y": [
          "0-30",
          "31-60",
          "61-90",
          "91-120",
          "120+",
          "Overall"
         ]
        },
        {
         "customdata": {
          "bdata": "T+ZBKWDzOMBtcmx40g9RwIGnDsukVjXArjWD6ORMS0BqnpUoToFzQMOejtzwdG5A",
          "dtype": "f8",
          "shape": "6, 1"
         },
         "hovertemplate": "<b>%{y}</b><br>First Order (%): %{x:.1f}%<br>Avg Time→Order: %{customdata[0]:.1f} hrs<extra></extra>",
         "name": "First Order (%)",
         "orientation": "h",
         "type": "bar",
         "visible": false,
         "x": {
          "bdata": "MzMzMzOzSUBmZmZmZuZHQGZmZmZmJkpAmpmZmZlZSkAAAAAAAABMQGZmZmZmZktA",
          "dtype": "f8"
         },
         "y": [
          "0-30",
          "31-60",
          "61-90",
          "91-120",
          "120+",
          "Overall"
         ]
        },
        {
         "customdata": {
          "bdata": "T+ZBKWDzOMBtcmx40g9RwIGnDsukVjXArjWD6ORMS0BqnpUoToFzQMOejtzwdG5A",
          "dtype": "f8",
          "shape": "6, 1"
         },
         "hovertemplate": "<b>%{y}</b><br>Cart Viewed (%): %{x:.1f}%<br>Avg Time→Order: %{customdata[0]:.1f} hrs<extra></extra>",
         "name": "Cart Viewed (%)",
         "orientation": "h",
         "type": "bar",
         "visible": false,
         "x": {
          "bdata": "AAAAAABgUUDNzMzMzIxQQAAAAAAAQFFAMzMzMzOzUUDNzMzMzOxRQGZmZmZmxlFA",
          "dtype": "f8"
         },
         "y": [
          "0-30",
          "31-60",
          "61-90",
          "91-120",
          "120+",
          "Overall"
         ]
        },
        {
         "customdata": {
          "bdata": "T+ZBKWDzOMBtcmx40g9RwIGnDsukVjXArjWD6ORMS0BqnpUoToFzQMOejtzwdG5A",
          "dtype": "f8",
          "shape": "6, 1"
         },
         "hovertemplate": "<b>%{y}</b><br>Provider Viewed (%): %{x:.1f}%<br>Avg Time→Order: %{customdata[0]:.1f} hrs<extra></extra>",
         "name": "Provider Viewed (%)",
         "orientation": "h",
         "type": "bar",
         "visible": false,
         "x": {
          "bdata": "AAAAAAAAWUAAAAAAAABZQAAAAAAAAFlAAAAAAAAAWUAAAAAAAABZQAAAAAAAAFlA",
          "dtype": "f8"
         },
         "y": [
          "0-30",
          "31-60",
          "61-90",
          "91-120",
          "120+",
          "Overall"
         ]
        }
       ],
       "layout": {
        "barmode": "group",
        "hovermode": "y unified",
        "legend": {
         "title": {
          "text": "Stage"
         }
        },
        "template": {
         "data": {
          "bar": [
           {
            "error_x": {
             "color": "#2a3f5f"
            },
            "error_y": {
             "color": "#2a3f5f"
            },
            "marker": {
             "line": {
              "color": "#E5ECF6",
              "width": 0.5
             },
             "pattern": {
              "fillmode": "overlay",
              "size": 10,
              "solidity": 0.2
             }
            },
            "type": "bar"
           }
          ],
          "barpolar": [
           {
            "marker": {
             "line": {
              "color": "#E5ECF6",
              "width": 0.5
             },
             "pattern": {
              "fillmode": "overlay",
              "size": 10,
              "solidity": 0.2
             }
            },
            "type": "barpolar"
           }
          ],
          "carpet": [
           {
            "aaxis": {
             "endlinecolor": "#2a3f5f",
             "gridcolor": "white",
             "linecolor": "white",
             "minorgridcolor": "white",
             "startlinecolor": "#2a3f5f"
            },
            "baxis": {
             "endlinecolor": "#2a3f5f",
             "gridcolor": "white",
             "linecolor": "white",
             "minorgridcolor": "white",
             "startlinecolor": "#2a3f5f"
            },
            "type": "carpet"
           }
          ],
          "choropleth": [
           {
            "colorbar": {
             "outlinewidth": 0,
             "ticks": ""
            },
            "type": "choropleth"
           }
          ],
          "contour": [
           {
            "colorbar": {
             "outlinewidth": 0,
             "ticks": ""
            },
            "colorscale": [
             [
              0,
              "#0d0887"
             ],
             [
              0.1111111111111111,
              "#46039f"
             ],
             [
              0.2222222222222222,
              "#7201a8"
             ],
             [
              0.3333333333333333,
              "#9c179e"
             ],
             [
              0.4444444444444444,
              "#bd3786"
             ],
             [
              0.5555555555555556,
              "#d8576b"
             ],
             [
              0.6666666666666666,
              "#ed7953"
             ],
             [
              0.7777777777777778,
              "#fb9f3a"
             ],
             [
              0.8888888888888888,
              "#fdca26"
             ],
             [
              1,
              "#f0f921"
             ]
            ],
            "type": "contour"
           }
          ],
          "contourcarpet": [
           {
            "colorbar": {
             "outlinewidth": 0,
             "ticks": ""
            },
            "type": "contourcarpet"
           }
          ],
          "heatmap": [
           {
            "colorbar": {
             "outlinewidth": 0,
             "ticks": ""
            },
            "colorscale": [
             [
              0,
              "#0d0887"
             ],
             [
              0.1111111111111111,
              "#46039f"
             ],
             [
              0.2222222222222222,
              "#7201a8"
             ],
             [
              0.3333333333333333,
              "#9c179e"
             ],
             [
              0.4444444444444444,
              "#bd3786"
             ],
             [
              0.5555555555555556,
              "#d8576b"
             ],
             [
              0.6666666666666666,
              "#ed7953"
             ],
             [
              0.7777777777777778,
              "#fb9f3a"
             ],
             [
              0.8888888888888888,
              "#fdca26"
             ],
             [
              1,
              "#f0f921"
             ]
            ],
            "type": "heatmap"
           }
          ],
          "histogram": [
           {
            "marker": {
             "pattern": {
              "fillmode": "overlay",
              "size": 10,
              "solidity": 0.2
             }
            },
            "type": "histogram"
           }
          ],
          "histogram2d": [
           {
            "colorbar": {
             "outlinewidth": 0,
             "ticks": ""
            },
            "colorscale": [
             [
              0,
              "#0d0887"
             ],
             [
              0.1111111111111111,
              "#46039f"
             ],
             [
              0.2222222222222222,
              "#7201a8"
             ],
             [
              0.3333333333333333,
              "#9c179e"
             ],
             [
              0.4444444444444444,
              "#bd3786"
             ],
             [
              0.5555555555555556,
              "#d8576b"
             ],
             [
              0.6666666666666666,
              "#ed7953"
             ],
             [
              0.7777777777777778,
              "#fb9f3a"
             ],
             [
              0.8888888888888888,
              "#fdca26"
             ],
             [
              1,
              "#f0f921"
             ]
            ],
            "type": "histogram2d"
           }
          ],
          "histogram2dcontour": [
           {
            "colorbar": {
             "outlinewidth": 0,
             "ticks": ""
            },
            "colorscale": [
             [
              0,
              "#0d0887"
             ],
             [
              0.1111111111111111,
              "#46039f"
             ],
             [
              0.2222222222222222,
              "#7201a8"
             ],
             [
              0.3333333333333333,
              "#9c179e"
             ],
             [
              0.4444444444444444,
              "#bd3786"
             ],
             [
              0.5555555555555556,
              "#d8576b"
             ],
             [
              0.6666666666666666,
              "#ed7953"
             ],
             [
              0.7777777777777778,
              "#fb9f3a"
             ],
             [
              0.8888888888888888,
              "#fdca26"
             ],
             [
              1,
              "#f0f921"
             ]
            ],
            "type": "histogram2dcontour"
           }
          ],
          "mesh3d": [
           {
            "colorbar": {
             "outlinewidth": 0,
             "ticks": ""
            },
            "type": "mesh3d"
           }
          ],
          "parcoords": [
           {
            "line": {
             "colorbar": {
              "outlinewidth": 0,
              "ticks": ""
             }
            },
            "type": "parcoords"
           }
          ],
          "pie": [
           {
            "automargin": true,
            "type": "pie"
           }
          ],
          "scatter": [
           {
            "fillpattern": {
             "fillmode": "overlay",
             "size": 10,
             "solidity": 0.2
            },
            "type": "scatter"
           }
          ],
          "scatter3d": [
           {
            "line": {
             "colorbar": {
              "outlinewidth": 0,
              "ticks": ""
             }
            },
            "marker": {
             "colorbar": {
              "outlinewidth": 0,
              "ticks": ""
             }
            },
            "type": "scatter3d"
           }
          ],
          "scattercarpet": [
           {
            "marker": {
             "colorbar": {
              "outlinewidth": 0,
              "ticks": ""
             }
            },
            "type": "scattercarpet"
           }
          ],
          "scattergeo": [
           {
            "marker": {
             "colorbar": {
              "outlinewidth": 0,
              "ticks": ""
             }
            },
            "type": "scattergeo"
           }
          ],
          "scattergl": [
           {
            "marker": {
             "colorbar": {
              "outlinewidth": 0,
              "ticks": ""
             }
            },
            "type": "scattergl"
           }
          ],
          "scattermap": [
           {
            "marker": {
             "colorbar": {
              "outlinewidth": 0,
              "ticks": ""
             }
            },
            "type": "scattermap"
           }
          ],
          "scattermapbox": [
           {
            "marker": {
             "colorbar": {
              "outlinewidth": 0,
              "ticks": ""
             }
            },
            "type": "scattermapbox"
           }
          ],
          "scatterpolar": [
           {
            "marker": {
             "colorbar": {
              "outlinewidth": 0,
              "ticks": ""
             }
            },
            "type": "scatterpolar"
           }
          ],
          "scatterpolargl": [
           {
            "marker": {
             "colorbar": {
              "outlinewidth": 0,
              "ticks": ""
             }
            },
            "type": "scatterpolargl"
           }
          ],
          "scatterternary": [
           {
            "marker": {
             "colorbar": {
              "outlinewidth": 0,
              "ticks": ""
             }
            },
            "type": "scatterternary"
           }
          ],
          "surface": [
           {
            "colorbar": {
             "outlinewidth": 0,
             "ticks": ""
            },
            "colorscale": [
             [
              0,
              "#0d0887"
             ],
             [
              0.1111111111111111,
              "#46039f"
             ],
             [
              0.2222222222222222,
              "#7201a8"
             ],
             [
              0.3333333333333333,
              "#9c179e"
             ],
             [
              0.4444444444444444,
              "#bd3786"
             ],
             [
              0.5555555555555556,
              "#d8576b"
             ],
             [
              0.6666666666666666,
              "#ed7953"
             ],
             [
              0.7777777777777778,
              "#fb9f3a"
             ],
             [
              0.8888888888888888,
              "#fdca26"
             ],
             [
              1,
              "#f0f921"
             ]
            ],
            "type": "surface"
           }
          ],
          "table": [
           {
            "cells": {
             "fill": {
              "color": "#EBF0F8"
             },
             "line": {
              "color": "white"
             }
            },
            "header": {
             "fill": {
              "color": "#C8D4E3"
             },
             "line": {
              "color": "white"
             }
            },
            "type": "table"
           }
          ]
         },
         "layout": {
          "annotationdefaults": {
           "arrowcolor": "#2a3f5f",
           "arrowhead": 0,
           "arrowwidth": 1
          },
          "autotypenumbers": "strict",
          "coloraxis": {
           "colorbar": {
            "outlinewidth": 0,
            "ticks": ""
           }
          },
          "colorscale": {
           "diverging": [
            [
             0,
             "#8e0152"
            ],
            [
             0.1,
             "#c51b7d"
            ],
            [
             0.2,
             "#de77ae"
            ],
            [
             0.3,
             "#f1b6da"
            ],
            [
             0.4,
             "#fde0ef"
            ],
            [
             0.5,
             "#f7f7f7"
            ],
            [
             0.6,
             "#e6f5d0"
            ],
            [
             0.7,
             "#b8e186"
            ],
            [
             0.8,
             "#7fbc41"
            ],
            [
             0.9,
             "#4d9221"
            ],
            [
             1,
             "#276419"
            ]
           ],
           "sequential": [
            [
             0,
             "#0d0887"
            ],
            [
             0.1111111111111111,
             "#46039f"
            ],
            [
             0.2222222222222222,
             "#7201a8"
            ],
            [
             0.3333333333333333,
             "#9c179e"
            ],
            [
             0.4444444444444444,
             "#bd3786"
            ],
            [
             0.5555555555555556,
             "#d8576b"
            ],
            [
             0.6666666666666666,
             "#ed7953"
            ],
            [
             0.7777777777777778,
             "#fb9f3a"
            ],
            [
             0.8888888888888888,
             "#fdca26"
            ],
            [
             1,
             "#f0f921"
            ]
           ],
           "sequentialminus": [
            [
             0,
             "#0d0887"
            ],
            [
             0.1111111111111111,
             "#46039f"
            ],
            [
             0.2222222222222222,
             "#7201a8"
            ],
            [
             0.3333333333333333,
             "#9c179e"
            ],
            [
             0.4444444444444444,
             "#bd3786"
            ],
            [
             0.5555555555555556,
             "#d8576b"
            ],
            [
             0.6666666666666666,
             "#ed7953"
            ],
            [
             0.7777777777777778,
             "#fb9f3a"
            ],
            [
             0.8888888888888888,
             "#fdca26"
            ],
            [
             1,
             "#f0f921"
            ]
           ]
          },
          "colorway": [
           "#636efa",
           "#EF553B",
           "#00cc96",
           "#ab63fa",
           "#FFA15A",
           "#19d3f3",
           "#FF6692",
           "#B6E880",
           "#FF97FF",
           "#FECB52"
          ],
          "font": {
           "color": "#2a3f5f"
          },
          "geo": {
           "bgcolor": "white",
           "lakecolor": "white",
           "landcolor": "#E5ECF6",
           "showlakes": true,
           "showland": true,
           "subunitcolor": "white"
          },
          "hoverlabel": {
           "align": "left"
          },
          "hovermode": "closest",
          "mapbox": {
           "style": "light"
          },
          "paper_bgcolor": "white",
          "plot_bgcolor": "#E5ECF6",
          "polar": {
           "angularaxis": {
            "gridcolor": "white",
            "linecolor": "white",
            "ticks": ""
           },
           "bgcolor": "#E5ECF6",
           "radialaxis": {
            "gridcolor": "white",
            "linecolor": "white",
            "ticks": ""
           }
          },
          "scene": {
           "xaxis": {
            "backgroundcolor": "#E5ECF6",
            "gridcolor": "white",
            "gridwidth": 2,
            "linecolor": "white",
            "showbackground": true,
            "ticks": "",
            "zerolinecolor": "white"
           },
           "yaxis": {
            "backgroundcolor": "#E5ECF6",
            "gridcolor": "white",
            "gridwidth": 2,
            "linecolor": "white",
            "showbackground": true,
            "ticks": "",
            "zerolinecolor": "white"
           },
           "zaxis": {
            "backgroundcolor": "#E5ECF6",
            "gridcolor": "white",
            "gridwidth": 2,
            "linecolor": "white",
            "showbackground": true,
            "ticks": "",
            "zerolinecolor": "white"
           }
          },
          "shapedefaults": {
           "line": {
            "color": "#2a3f5f"
           }
          },
          "ternary": {
           "aaxis": {
            "gridcolor": "white",
            "linecolor": "white",
            "ticks": ""
           },
           "baxis": {
            "gridcolor": "white",
            "linecolor": "white",
            "ticks": ""
           },
           "bgcolor": "#E5ECF6",
           "caxis": {
            "gridcolor": "white",
            "linecolor": "white",
            "ticks": ""
           }
          },
          "title": {
           "x": 0.05
          },
          "xaxis": {
           "automargin": true,
           "gridcolor": "white",
           "linecolor": "white",
           "ticks": "",
           "title": {
            "standoff": 15
           },
           "zerolinecolor": "white",
           "zerolinewidth": 2
          },
          "yaxis": {
           "automargin": true,
           "gridcolor": "white",
           "linecolor": "white",
           "ticks": "",
           "title": {
            "standoff": 15
           },
           "zerolinecolor": "white",
           "zerolinewidth": 2
          }
         }
        },
        "title": {
         "text": "Funnel by Provider-View Recency Cohort"
        },
        "updatemenus": [
         {
          "buttons": [
           {
            "args": [
             {
              "visible": [
               true,
               true,
               true,
               true,
               false,
               false,
               false,
               false
              ]
             },
             {
              "xaxis": {
               "title": "Users (n)"
              }
             }
            ],
            "label": "Counts",
            "method": "update"
           },
           {
            "args": [
             {
              "visible": [
               false,
               false,
               false,
               false,
               true,
               true,
               true,
               true
              ]
             },
             {
              "xaxis": {
               "title": "Share of Provider Viewers (%)"
              }
             }
            ],
            "label": "Percentages",
            "method": "update"
           }
          ],
          "direction": "left",
          "type": "buttons",
          "x": 0,
          "y": 1.1
         }
        ],
        "xaxis": {
         "title": {
          "text": "Users (n)"
         }
        },
        "yaxis": {
         "title": {
          "text": "Provider View Recency Cohort (days)"
         }
        }
       }
      }
     },
     "metadata": {},
     "output_type": "display_data"
    }
   ],
   "source": [
    "plot_df = funnel_by_cohort.reset_index().rename(columns={'fpv_recency': 'Cohort'})\n",
    "plot_df['Avg Time (hrs)'] = plot_df['Avg Time to First Order'].dt.total_seconds() / 3600\n",
    "\n",
    "# Long format for bars\n",
    "counts_cols = ['Provider Viewed (n)', 'Cart Viewed (n)', 'First Order (n)', 'Repeat Order (n)']\n",
    "pct_cols    = ['Cart Viewed (%)', 'First Order (%)', 'Repeat Order (%)']  # Provider Viewed % would always be 100\n",
    "# For parity, create a Provider Viewed (%) = 100\n",
    "plot_df['Provider Viewed (%)'] = 100.0\n",
    "pct_cols = ['Provider Viewed (%)'] + pct_cols\n",
    "\n",
    "counts_long = plot_df.melt(id_vars=['Cohort', 'Avg Time (hrs)'], value_vars=counts_cols,\n",
    "                           var_name='Stage', value_name='Value')\n",
    "pct_long    = plot_df.melt(id_vars=['Cohort', 'Avg Time (hrs)'], value_vars=pct_cols,\n",
    "                           var_name='Stage', value_name='Value')\n",
    "\n",
    "# Order stages for consistent display\n",
    "stage_order_counts = ['Provider Viewed (n)', 'Cart Viewed (n)', 'First Order (n)', 'Repeat Order (n)'][::-1]\n",
    "stage_order_pct    = ['Provider Viewed (%)', 'Cart Viewed (%)', 'First Order (%)', 'Repeat Order (%)'][::-1]\n",
    "\n",
    "counts_long['Stage'] = pd.Categorical(counts_long['Stage'], stage_order_counts, ordered=True)\n",
    "pct_long['Stage']    = pd.Categorical(pct_long['Stage'], stage_order_pct, ordered=True)\n",
    "\n",
    "# Build figures\n",
    "fig = go.Figure()\n",
    "\n",
    "def add_traces(df_long, mode_name):\n",
    "    for stage in df_long['Stage'].cat.categories:\n",
    "        sub = df_long[df_long['Stage'] == stage]\n",
    "        fig.add_trace(go.Bar(\n",
    "            x=sub['Value'],\n",
    "            y=sub['Cohort'],\n",
    "            orientation='h',\n",
    "            name=stage,\n",
    "            customdata=np.stack([sub['Avg Time (hrs)']], axis=-1),\n",
    "            hovertemplate=(\n",
    "                \"<b>%{y}</b><br>\" +\n",
    "                stage + \": %{x}<br>\" +\n",
    "                \"Avg Time→Order: %{customdata[0]:.1f} hrs\" +\n",
    "                \"<extra></extra>\"\n",
    "            ),\n",
    "            visible=True if mode_name == 'counts' else False\n",
    "        ))\n",
    "\n",
    "# Counts traces (default visible)\n",
    "add_traces(counts_long, mode_name='counts')\n",
    "\n",
    "# Percent traces (initially hidden)\n",
    "for stage in pct_long['Stage'].cat.categories:\n",
    "    sub = pct_long[pct_long['Stage'] == stage]\n",
    "    fig.add_trace(go.Bar(\n",
    "        x=sub['Value'],\n",
    "        y=sub['Cohort'],\n",
    "        orientation='h',\n",
    "        name=stage,\n",
    "        customdata=np.stack([sub['Avg Time (hrs)']], axis=-1),\n",
    "        hovertemplate=(\n",
    "            \"<b>%{y}</b><br>\" +\n",
    "            stage + \": %{x:.1f}%<br>\" +\n",
    "            \"Avg Time→Order: %{customdata[0]:.1f} hrs\" +\n",
    "            \"<extra></extra>\"\n",
    "        ),\n",
    "        visible=False\n",
    "    ))\n",
    "\n",
    "# Buttons to toggle\n",
    "n_counts = len(stage_order_counts)\n",
    "n_pct    = len(stage_order_pct)\n",
    "btn_counts = dict(\n",
    "    label=\"Counts\",\n",
    "    method=\"update\",\n",
    "    args=[\n",
    "        {\"visible\": [True]*n_counts + [False]*n_pct},\n",
    "        {\"xaxis\": {\"title\": \"Users (n)\"}}\n",
    "    ]\n",
    ")\n",
    "btn_pct = dict(\n",
    "    label=\"Percentages\",\n",
    "    method=\"update\",\n",
    "    args=[\n",
    "        {\"visible\": [False]*n_counts + [True]*n_pct},\n",
    "        {\"xaxis\": {\"title\": \"Share of Provider Viewers (%)\"}}\n",
    "    ]\n",
    ")\n",
    "\n",
    "fig.update_layout(\n",
    "    barmode='group',\n",
    "    updatemenus=[dict(type=\"buttons\", buttons=[btn_counts, btn_pct], direction=\"left\", x=0.0, y=1.1)],\n",
    "    xaxis_title=\"Users (n)\",\n",
    "    yaxis_title=\"Provider View Recency Cohort (days)\",\n",
    "    title=\"Funnel by Provider-View Recency Cohort\",\n",
    "    hovermode=\"y unified\",\n",
    "    legend_title=\"Stage\"\n",
    ")\n",
    "\n",
    "fig.show()"
   ]
  }
 ],
 "metadata": {
  "kernelspec": {
   "display_name": "venv",
   "language": "python",
   "name": "python3"
  },
  "language_info": {
   "codemirror_mode": {
    "name": "ipython",
    "version": 3
   },
   "file_extension": ".py",
   "mimetype": "text/x-python",
   "name": "python",
   "nbconvert_exporter": "python",
   "pygments_lexer": "ipython3",
   "version": "3.13.5"
  }
 },
 "nbformat": 4,
 "nbformat_minor": 5
}
