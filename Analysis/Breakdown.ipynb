{
 "cells": [
  {
   "cell_type": "code",
   "execution_count": 2,
   "id": "d38945a7",
   "metadata": {},
   "outputs": [
    {
     "name": "stderr",
     "output_type": "stream",
     "text": [
      "/var/folders/q4/9fmh2gnj57lgm7stdq1z_66c0000gn/T/ipykernel_32455/3809276994.py:16: SettingWithCopyWarning: \n",
      "A value is trying to be set on a copy of a slice from a DataFrame.\n",
      "Try using .loc[row_indexer,col_indexer] = value instead\n",
      "\n",
      "See the caveats in the documentation: https://pandas.pydata.org/pandas-docs/stable/user_guide/indexing.html#returning-a-view-versus-a-copy\n",
      "  latest_order_dates['Order Created Date'] = pd.to_datetime(latest_order_dates['Order Created Date'], errors='coerce')\n"
     ]
    },
    {
     "ename": "NameError",
     "evalue": "name 'today' is not defined",
     "output_type": "error",
     "traceback": [
      "\u001b[31m---------------------------------------------------------------------------\u001b[39m",
      "\u001b[31mNameError\u001b[39m                                 Traceback (most recent call last)",
      "\u001b[36mCell\u001b[39m\u001b[36m \u001b[39m\u001b[32mIn[2]\u001b[39m\u001b[32m, line 19\u001b[39m\n\u001b[32m     16\u001b[39m latest_order_dates[\u001b[33m'\u001b[39m\u001b[33mOrder Created Date\u001b[39m\u001b[33m'\u001b[39m] = pd.to_datetime(latest_order_dates[\u001b[33m'\u001b[39m\u001b[33mOrder Created Date\u001b[39m\u001b[33m'\u001b[39m], errors=\u001b[33m'\u001b[39m\u001b[33mcoerce\u001b[39m\u001b[33m'\u001b[39m)\n\u001b[32m     18\u001b[39m \u001b[38;5;66;03m# Calculate days since last order\u001b[39;00m\n\u001b[32m---> \u001b[39m\u001b[32m19\u001b[39m latest_order_dates[\u001b[33m'\u001b[39m\u001b[33mdays_since_last_order\u001b[39m\u001b[33m'\u001b[39m] = (\u001b[43mtoday\u001b[49m - latest_order_dates[\u001b[33m'\u001b[39m\u001b[33mOrder Created Date\u001b[39m\u001b[33m'\u001b[39m]).dt.days\n\u001b[32m     21\u001b[39m \u001b[38;5;66;03m# Define bins and labels\u001b[39;00m\n\u001b[32m     22\u001b[39m bins = [\u001b[32m0\u001b[39m, \u001b[32m30\u001b[39m, \u001b[32m60\u001b[39m, \u001b[32m90\u001b[39m, \u001b[32m120\u001b[39m, np.inf]\n",
      "\u001b[31mNameError\u001b[39m: name 'today' is not defined"
     ]
    }
   ],
   "source": [
    "import pandas as pd\n",
    "import numpy as np\n",
    "from datetime import datetime\n",
    "import matplotlib.pyplot as plt\n",
    "\n",
    "# Load data\n",
    "df = pd.read_csv(\"/Users/levankikadze/Desktop/pandas/Bolt Food/cherningUsers/Data/UserOrdersTotal_past1yr.csv\", index_col=0)\n",
    "\n",
    "# Sort by order date descending\n",
    "df.sort_values(by='Order Created Date', ascending=False, inplace=True)\n",
    "\n",
    "# Get latest order per user\n",
    "latest_order_dates = df.drop_duplicates(subset='User ID', keep='first')\n",
    "\n",
    "# Ensure 'Order Created Date' is datetime\n",
    "latest_order_dates['Order Created Date'] = pd.to_datetime(latest_order_dates['Order Created Date'], errors='coerce')\n",
    "\n",
    "# Calculate days since last order\n",
    "latest_order_dates['days_since_last_order'] = (today - latest_order_dates['Order Created Date']).dt.days\n",
    "\n",
    "# Define bins and labels\n",
    "bins = [0, 30, 60, 90, 120, np.inf]\n",
    "labels = ['0-30 days', '31-60 days', '61-90 days', '91-120 days', '120+ days']\n",
    "\n",
    "# Categorize users by recency\n",
    "latest_order_dates.loc[:, 'order_recency'] = pd.cut(latest_order_dates['days_since_last_order'], bins=bins, labels=labels, right=True)\n",
    "\n",
    "# List of campaign columns (excluding summary columns)\n",
    "campaign_cols = [\n",
    "    \"Bolt Plus Campaign Discount Eur\",\n",
    "    \"AM Campaign Discount, €\",\n",
    "    \"MLC Churn Campaigns Discount, €\",\n",
    "    \"MLC ELC Campaigns Discount, €\",\n",
    "    \"Other Campaigns Discount, €\",\n",
    "    \"Provider Campaigns Discount, €\",\n",
    "    \"Store Campaign Discount, €\",\n",
    "    \"ULC Activation Campaigns Discount, €\",\n",
    "    \"ULC Engagement Campaigns Discount, €\",\n",
    "    \"Cost-Share Delivery Fee Campaigns Spend by Bolt, €\",\n",
    "    \"Cost-Share Menu Campaigns Spend by Bolt, €\",\n",
    "    \"Delivery Fee Campaigns Discount, €\",\n",
    "    \"Liquidity Campaigns Discount, €\",\n",
    "    \"Marketing Campaigns Discount, €\",\n",
    "    \"Menu Campaigns Discount, €\"\n",
    "]\n",
    "\n",
    "# Clean campaign columns and create a column for which campaign was used\n",
    "for col in campaign_cols:\n",
    "    latest_order_dates.loc[:, col] = latest_order_dates[col].replace(r'[€,\\s]', '', regex=True).replace('', '0').astype(float)\n",
    "\n",
    "# Find which campaign was used for each user (first nonzero campaign column)\n",
    "def get_campaign(row):\n",
    "    for col in campaign_cols:\n",
    "        if row[col] > 0:\n",
    "            return col\n",
    "    return 'No Campaign'\n",
    "\n",
    "latest_order_dates.loc[:, 'used_campaign'] = latest_order_dates.apply(get_campaign, axis=1)\n",
    "\n",
    "# Count users by recency and campaign\n",
    "campaign_counts = latest_order_dates.groupby(['order_recency', 'used_campaign']).size().unstack(fill_value=0)\n",
    "\n",
    "print(campaign_counts)\n",
    "\n",
    "# Visualisation: stacked horizontal bar chart for top 8 campaigns + \"No Campaign\"\n",
    "top_campaigns = campaign_counts.sum().sort_values(ascending=False).head(8).index.tolist()\n",
    "if 'No Campaign' not in top_campaigns:\n",
    "    top_campaigns.append('No Campaign')\n",
    "campaign_counts_plot = campaign_counts[top_campaigns]\n",
    "\n",
    "campaign_counts_plot.plot(kind='barh', stacked=True, colormap='tab20')\n",
    "plt.title('User Last Order Recency and Campaign Used')\n",
    "plt.xlabel('Number of Users')\n",
    "plt.ylabel('Order Recency')\n",
    "plt.legend(title='Campaign Used', bbox_to_anchor=(1.05, 1), loc='upper left')\n",
    "\n",
    "plt.show()"
   ]
  }
 ],
 "metadata": {
  "kernelspec": {
   "display_name": "venv",
   "language": "python",
   "name": "python3"
  },
  "language_info": {
   "codemirror_mode": {
    "name": "ipython",
    "version": 3
   },
   "file_extension": ".py",
   "mimetype": "text/x-python",
   "name": "python",
   "nbconvert_exporter": "python",
   "pygments_lexer": "ipython3",
   "version": "3.13.5"
  }
 },
 "nbformat": 4,
 "nbformat_minor": 5
}
