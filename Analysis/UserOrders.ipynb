{
 "cells": [
  {
   "cell_type": "code",
   "execution_count": 1,
   "id": "3cad6e89",
   "metadata": {},
   "outputs": [],
   "source": [
    "import pandas as pd\n",
    "\n",
    "df = pd.read_csv(\"/Users/levankikadze/Desktop/cherningUsers/Data/UserOrdersTotal_past1yr.csv\", index_col=0)"
   ]
  },
  {
   "cell_type": "code",
   "execution_count": 22,
   "id": "95f1e310",
   "metadata": {},
   "outputs": [
    {
     "data": {
      "text/html": [
       "<div>\n",
       "<style scoped>\n",
       "    .dataframe tbody tr th:only-of-type {\n",
       "        vertical-align: middle;\n",
       "    }\n",
       "\n",
       "    .dataframe tbody tr th {\n",
       "        vertical-align: top;\n",
       "    }\n",
       "\n",
       "    .dataframe thead th {\n",
       "        text-align: right;\n",
       "    }\n",
       "</style>\n",
       "<table border=\"1\" class=\"dataframe\">\n",
       "  <thead>\n",
       "    <tr style=\"text-align: right;\">\n",
       "      <th></th>\n",
       "      <th>User ID</th>\n",
       "      <th>Order Created Date</th>\n",
       "      <th>Order ID</th>\n",
       "      <th>Campaigns Discount, $</th>\n",
       "    </tr>\n",
       "  </thead>\n",
       "  <tbody>\n",
       "    <tr>\n",
       "      <th>70245</th>\n",
       "      <td>246858170</td>\n",
       "      <td>2025-07-22</td>\n",
       "      <td>248561451</td>\n",
       "      <td>$0.00</td>\n",
       "    </tr>\n",
       "    <tr>\n",
       "      <th>82867</th>\n",
       "      <td>106992646</td>\n",
       "      <td>2025-07-22</td>\n",
       "      <td>248560305</td>\n",
       "      <td>$0.00</td>\n",
       "    </tr>\n",
       "    <tr>\n",
       "      <th>696931</th>\n",
       "      <td>256883052</td>\n",
       "      <td>2025-07-22</td>\n",
       "      <td>248558534</td>\n",
       "      <td>$24.00</td>\n",
       "    </tr>\n",
       "    <tr>\n",
       "      <th>696922</th>\n",
       "      <td>94678452</td>\n",
       "      <td>2025-07-22</td>\n",
       "      <td>248563233</td>\n",
       "      <td>$0.00</td>\n",
       "    </tr>\n",
       "    <tr>\n",
       "      <th>696916</th>\n",
       "      <td>132702024</td>\n",
       "      <td>2025-07-22</td>\n",
       "      <td>248552592</td>\n",
       "      <td>$0.00</td>\n",
       "    </tr>\n",
       "  </tbody>\n",
       "</table>\n",
       "</div>"
      ],
      "text/plain": [
       "          User ID Order Created Date   Order ID Campaigns Discount, $\n",
       "70245   246858170         2025-07-22  248561451                 $0.00\n",
       "82867   106992646         2025-07-22  248560305                 $0.00\n",
       "696931  256883052         2025-07-22  248558534                $24.00\n",
       "696922   94678452         2025-07-22  248563233                 $0.00\n",
       "696916  132702024         2025-07-22  248552592                 $0.00"
      ]
     },
     "execution_count": 22,
     "metadata": {},
     "output_type": "execute_result"
    }
   ],
   "source": [
    "df.head()"
   ]
  },
  {
   "cell_type": "code",
   "execution_count": 2,
   "id": "24a23539",
   "metadata": {},
   "outputs": [],
   "source": [
    "df.sort_values(by='Order Created Date', ascending=False, inplace=True)"
   ]
  },
  {
   "cell_type": "code",
   "execution_count": 27,
   "id": "bbaddfb1",
   "metadata": {},
   "outputs": [
    {
     "data": {
      "text/html": [
       "<div>\n",
       "<style scoped>\n",
       "    .dataframe tbody tr th:only-of-type {\n",
       "        vertical-align: middle;\n",
       "    }\n",
       "\n",
       "    .dataframe tbody tr th {\n",
       "        vertical-align: top;\n",
       "    }\n",
       "\n",
       "    .dataframe thead th {\n",
       "        text-align: right;\n",
       "    }\n",
       "</style>\n",
       "<table border=\"1\" class=\"dataframe\">\n",
       "  <thead>\n",
       "    <tr style=\"text-align: right;\">\n",
       "      <th></th>\n",
       "      <th>User ID</th>\n",
       "      <th>Order Created Date</th>\n",
       "      <th>Order ID</th>\n",
       "      <th>Campaigns Discount, $</th>\n",
       "    </tr>\n",
       "  </thead>\n",
       "  <tbody>\n",
       "    <tr>\n",
       "      <th>70245</th>\n",
       "      <td>246858170</td>\n",
       "      <td>2025-07-22</td>\n",
       "      <td>248561451</td>\n",
       "      <td>$0.00</td>\n",
       "    </tr>\n",
       "    <tr>\n",
       "      <th>82867</th>\n",
       "      <td>106992646</td>\n",
       "      <td>2025-07-22</td>\n",
       "      <td>248560305</td>\n",
       "      <td>$0.00</td>\n",
       "    </tr>\n",
       "    <tr>\n",
       "      <th>696931</th>\n",
       "      <td>256883052</td>\n",
       "      <td>2025-07-22</td>\n",
       "      <td>248558534</td>\n",
       "      <td>$24.00</td>\n",
       "    </tr>\n",
       "    <tr>\n",
       "      <th>696922</th>\n",
       "      <td>94678452</td>\n",
       "      <td>2025-07-22</td>\n",
       "      <td>248563233</td>\n",
       "      <td>$0.00</td>\n",
       "    </tr>\n",
       "    <tr>\n",
       "      <th>696916</th>\n",
       "      <td>132702024</td>\n",
       "      <td>2025-07-22</td>\n",
       "      <td>248552592</td>\n",
       "      <td>$0.00</td>\n",
       "    </tr>\n",
       "  </tbody>\n",
       "</table>\n",
       "</div>"
      ],
      "text/plain": [
       "          User ID Order Created Date   Order ID Campaigns Discount, $\n",
       "70245   246858170         2025-07-22  248561451                 $0.00\n",
       "82867   106992646         2025-07-22  248560305                 $0.00\n",
       "696931  256883052         2025-07-22  248558534                $24.00\n",
       "696922   94678452         2025-07-22  248563233                 $0.00\n",
       "696916  132702024         2025-07-22  248552592                 $0.00"
      ]
     },
     "execution_count": 27,
     "metadata": {},
     "output_type": "execute_result"
    }
   ],
   "source": [
    "latest_order_dates = df.drop_duplicates(subset='User ID', keep='first')\n",
    "latest_order_dates.head()"
   ]
  },
  {
   "cell_type": "code",
   "execution_count": 36,
   "id": "0daded4b",
   "metadata": {},
   "outputs": [
    {
     "name": "stdout",
     "output_type": "stream",
     "text": [
      "order_recency\n",
      "0-30 days      50684\n",
      "31-60 days     25152\n",
      "61-90 days     20540\n",
      "91-120 days    15453\n",
      "120+ days      34209\n",
      "Name: count, dtype: int64\n"
     ]
    },
    {
     "name": "stderr",
     "output_type": "stream",
     "text": [
      "/var/folders/q4/9fmh2gnj57lgm7stdq1z_66c0000gn/T/ipykernel_16074/1858078166.py:5: SettingWithCopyWarning: \n",
      "A value is trying to be set on a copy of a slice from a DataFrame.\n",
      "Try using .loc[row_indexer,col_indexer] = value instead\n",
      "\n",
      "See the caveats in the documentation: https://pandas.pydata.org/pandas-docs/stable/user_guide/indexing.html#returning-a-view-versus-a-copy\n",
      "  latest_order_dates['Order Created Date'] = pd.to_datetime(latest_order_dates['Order Created Date'])\n",
      "/var/folders/q4/9fmh2gnj57lgm7stdq1z_66c0000gn/T/ipykernel_16074/1858078166.py:9: SettingWithCopyWarning: \n",
      "A value is trying to be set on a copy of a slice from a DataFrame.\n",
      "Try using .loc[row_indexer,col_indexer] = value instead\n",
      "\n",
      "See the caveats in the documentation: https://pandas.pydata.org/pandas-docs/stable/user_guide/indexing.html#returning-a-view-versus-a-copy\n",
      "  latest_order_dates['days_since_last_order'] = (today - latest_order_dates['Order Created Date']).dt.days\n",
      "/var/folders/q4/9fmh2gnj57lgm7stdq1z_66c0000gn/T/ipykernel_16074/1858078166.py:16: SettingWithCopyWarning: \n",
      "A value is trying to be set on a copy of a slice from a DataFrame.\n",
      "Try using .loc[row_indexer,col_indexer] = value instead\n",
      "\n",
      "See the caveats in the documentation: https://pandas.pydata.org/pandas-docs/stable/user_guide/indexing.html#returning-a-view-versus-a-copy\n",
      "  latest_order_dates['order_recency'] = pd.cut(latest_order_dates['days_since_last_order'], bins=bins, labels=labels, right=True)\n"
     ]
    }
   ],
   "source": [
    "import numpy as np\n",
    "from datetime import datetime\n",
    "\n",
    "# Ensure 'Order Created Date' is datetime\n",
    "latest_order_dates['Order Created Date'] = pd.to_datetime(latest_order_dates['Order Created Date'])\n",
    "\n",
    "# Calculate days since last order\n",
    "today = pd.Timestamp(datetime.today().date())\n",
    "latest_order_dates['days_since_last_order'] = (today - latest_order_dates['Order Created Date']).dt.days\n",
    "\n",
    "# Define bins and labels\n",
    "bins = [0, 30, 60, 90, 120, np.inf]\n",
    "labels = ['0-30 days', '31-60 days', '61-90 days', '91-120 days', '120+ days']\n",
    "\n",
    "# Categorize users\n",
    "latest_order_dates['order_recency'] = pd.cut(latest_order_dates['days_since_last_order'], bins=bins, labels=labels, right=True)\n",
    "\n",
    "# Count users in each group\n",
    "recency_counts = latest_order_dates['order_recency'].value_counts().sort_index()\n",
    "print(recency_counts)"
   ]
  },
  {
   "cell_type": "code",
   "execution_count": 48,
   "id": "7ca026e3",
   "metadata": {},
   "outputs": [
    {
     "name": "stdout",
     "output_type": "stream",
     "text": [
      "used_discount  False  True \n",
      "order_recency              \n",
      "0-30 days      14210  36474\n",
      "31-60 days      6800  18352\n",
      "61-90 days      5284  15256\n",
      "91-120 days     4298  11155\n",
      "120+ days      10255  23954\n"
     ]
    },
    {
     "name": "stderr",
     "output_type": "stream",
     "text": [
      "/var/folders/q4/9fmh2gnj57lgm7stdq1z_66c0000gn/T/ipykernel_16074/1492299238.py:7: SettingWithCopyWarning: \n",
      "A value is trying to be set on a copy of a slice from a DataFrame.\n",
      "Try using .loc[row_indexer,col_indexer] = value instead\n",
      "\n",
      "See the caveats in the documentation: https://pandas.pydata.org/pandas-docs/stable/user_guide/indexing.html#returning-a-view-versus-a-copy\n",
      "  latest_order_dates['Order Created Date'] = pd.to_datetime(latest_order_dates['Order Created Date'])\n",
      "/var/folders/q4/9fmh2gnj57lgm7stdq1z_66c0000gn/T/ipykernel_16074/1492299238.py:8: SettingWithCopyWarning: \n",
      "A value is trying to be set on a copy of a slice from a DataFrame.\n",
      "Try using .loc[row_indexer,col_indexer] = value instead\n",
      "\n",
      "See the caveats in the documentation: https://pandas.pydata.org/pandas-docs/stable/user_guide/indexing.html#returning-a-view-versus-a-copy\n",
      "  latest_order_dates['days_since_last_order'] = (today - latest_order_dates['Order Created Date']).dt.days\n",
      "/var/folders/q4/9fmh2gnj57lgm7stdq1z_66c0000gn/T/ipykernel_16074/1492299238.py:9: SettingWithCopyWarning: \n",
      "A value is trying to be set on a copy of a slice from a DataFrame.\n",
      "Try using .loc[row_indexer,col_indexer] = value instead\n",
      "\n",
      "See the caveats in the documentation: https://pandas.pydata.org/pandas-docs/stable/user_guide/indexing.html#returning-a-view-versus-a-copy\n",
      "  latest_order_dates['order_recency'] = pd.cut(latest_order_dates['days_since_last_order'], bins=bins, labels=labels, right=True)\n",
      "/var/folders/q4/9fmh2gnj57lgm7stdq1z_66c0000gn/T/ipykernel_16074/1492299238.py:11: SettingWithCopyWarning: \n",
      "A value is trying to be set on a copy of a slice from a DataFrame.\n",
      "Try using .loc[row_indexer,col_indexer] = value instead\n",
      "\n",
      "See the caveats in the documentation: https://pandas.pydata.org/pandas-docs/stable/user_guide/indexing.html#returning-a-view-versus-a-copy\n",
      "  latest_order_dates['Campaigns Discount, $'] = latest_order_dates['Campaigns Discount, $'].replace(r'[\\$,]', '', regex=True).astype(float)\n"
     ]
    },
    {
     "data": {
      "image/png": "[encoded data removed]",
      "text/plain": [
       "<Figure size 640x480 with 1 Axes>"
      ]
     },
     "metadata": {},
     "output_type": "display_data"
    }
   ],
   "source": [
    "import matplotlib.pyplot as plt\n",
    "\n",
    "# Ensure 'order_recency' column exists\n",
    "if 'order_recency' not in latest_order_dates.columns:\n",
    "\tbins = [0, 30, 60, 90, 120, np.inf]\n",
    "\tlabels = ['0-30 days', '31-60 days', '61-90 days', '91-120 days', '120+ days']\n",
    "\tlatest_order_dates['Order Created Date'] = pd.to_datetime(latest_order_dates['Order Created Date'])\n",
    "\tlatest_order_dates['days_since_last_order'] = (today - latest_order_dates['Order Created Date']).dt.days\n",
    "\tlatest_order_dates['order_recency'] = pd.cut(latest_order_dates['days_since_last_order'], bins=bins, labels=labels, right=True)\n",
    "\n",
    "latest_order_dates['Campaigns Discount, $'] = latest_order_dates['Campaigns Discount, $'].replace(r'[\\$,]', '', regex=True).astype(float)\n",
    "\n",
    "latest_order_dates.loc[:, 'used_discount'] = latest_order_dates['Campaigns Discount, $'] > 0\n",
    "\n",
    "# Group by order_recency and discount usage, then count\n",
    "discount_counts = latest_order_dates.groupby(['order_recency', 'used_discount'], observed=True).size().unstack(fill_value=0)\n",
    "print(discount_counts)\n",
    "\n",
    "\n",
    "discount_counts.plot(kind='barh', stacked=True, color=['orange', 'skyblue'])\n",
    "plt.title('User Last Order Recency and Discount Usage')\n",
    "plt.xlabel('Number of Users')\n",
    "plt.ylabel('Order Recency')\n",
    "plt.legend([ 'No Discount', 'Used Discount', ], title='Discount Used')\n",
    "plt.tight_layout()\n",
    "plt.show()"
   ]
  }
 ],
 "metadata": {
  "kernelspec": {
   "display_name": "venv",
   "language": "python",
   "name": "python3"
  },
  "language_info": {
   "codemirror_mode": {
    "name": "ipython",
    "version": 3
   },
   "file_extension": ".py",
   "mimetype": "text/x-python",
   "name": "python",
   "nbconvert_exporter": "python",
   "pygments_lexer": "ipython3",
   "version": "3.13.5"
  }
 },
 "nbformat": 4,
 "nbformat_minor": 5
}
